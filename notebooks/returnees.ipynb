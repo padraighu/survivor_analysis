{
 "cells": [
  {
   "cell_type": "code",
   "execution_count": null,
   "metadata": {
    "colab": {
     "base_uri": "https://localhost:8080/"
    },
    "id": "0lteFURSU441",
    "outputId": "a8ba7c96-c0d4-4122-cd0b-9dc4d71ca98a"
   },
   "outputs": [],
   "source": [
    "!pip install pyreadr"
   ]
  },
  {
   "cell_type": "code",
   "execution_count": null,
   "metadata": {
    "colab": {
     "base_uri": "https://localhost:8080/"
    },
    "id": "LIWtcVvxmpAU",
    "outputId": "1f0f8f81-e589-4be3-cec4-07526c1ebac0"
   },
   "outputs": [],
   "source": [
    "!sudo apt-get install python3-dev graphviz libgraphviz-dev pkg-config"
   ]
  },
  {
   "cell_type": "code",
   "execution_count": null,
   "metadata": {
    "colab": {
     "base_uri": "https://localhost:8080/"
    },
    "id": "FJrO9zJbl1QM",
    "outputId": "89a0e7c0-566c-46e8-f375-b7c59b167b37"
   },
   "outputs": [],
   "source": [
    "!pip install pygraphviz"
   ]
  },
  {
   "cell_type": "code",
   "execution_count": null,
   "metadata": {
    "id": "sO2pRaMduBFm"
   },
   "outputs": [],
   "source": [
    "import pyreadr\n",
    "import networkx as nx\n",
    "import graphviz\n",
    "from dataclasses import dataclass"
   ]
  },
  {
   "cell_type": "code",
   "execution_count": null,
   "metadata": {
    "colab": {
     "base_uri": "https://localhost:8080/",
     "height": 36
    },
    "id": "5kfcnwpJVzsZ",
    "outputId": "e6bc65c2-34ef-476d-e2a5-3e07918449e1"
   },
   "outputs": [],
   "source": [
    "pyreadr.download_file(\n",
    "    \"https://github.com/doehm/survivoR/blob/master/data/castaways.rda?raw=true\",\n",
    "    \"castaways.rda\",\n",
    ")"
   ]
  },
  {
   "cell_type": "code",
   "execution_count": null,
   "metadata": {
    "id": "keA9k_UpU86g"
   },
   "outputs": [],
   "source": [
    "result = pyreadr.read_r(\"castaways.rda\")"
   ]
  },
  {
   "cell_type": "code",
   "execution_count": null,
   "metadata": {
    "id": "TSIozDIUVYth"
   },
   "outputs": [],
   "source": [
    "df = result[\"castaways\"]\n",
    "df = df[df[\"version\"] == \"US\"]"
   ]
  },
  {
   "cell_type": "code",
   "execution_count": null,
   "metadata": {
    "id": "Gp0IeY0IWEBN"
   },
   "outputs": [],
   "source": [
    "# df[df[\"version\"]==\"US\"][[\"castaway_id\", \"state\"]].drop_duplicates()[\"state\"].value_counts()\n",
    "# df[[\"castaway_id\", \"full_name\"]].value_counts().head(20)"
   ]
  },
  {
   "cell_type": "code",
   "execution_count": null,
   "metadata": {
    "id": "0jIJPQedcONU"
   },
   "outputs": [],
   "source": [
    "seasons = df[[\"version_season\", \"season_name\", \"season\"]].drop_duplicates()\n",
    "seasons[\"season\"] = seasons[\"season\"].astype(int)\n",
    "g = nx.DiGraph()\n",
    "for s in seasons.itertuples():\n",
    "    l = f\"S{s.season}: {s.season_name.replace('Survivor:', '').strip()}\"\n",
    "    g.add_node(s.season, label=l)"
   ]
  },
  {
   "cell_type": "code",
   "execution_count": null,
   "metadata": {
    "id": "Q8_ofmj4cnAH"
   },
   "outputs": [],
   "source": [
    "@dataclass\n",
    "class Castaway(object):\n",
    "    id: str\n",
    "    name: str\n",
    "    season: int\n",
    "\n",
    "\n",
    "# there are duplicates because of some were brought back to the same season\n",
    "survivors = df[\n",
    "    [\"castaway_id\", \"full_name\", \"version_season\", \"season_name\", \"season\"]\n",
    "].drop_duplicates()\n",
    "survivors[\"season\"] = survivors[\"season\"].astype(int)\n",
    "prev_survivor = None\n",
    "for s in survivors.sort_values([\"castaway_id\", \"season\"]).itertuples():\n",
    "    curr_survivor = Castaway(s.castaway_id, s.full_name, s.season)\n",
    "    if prev_survivor and prev_survivor.id == curr_survivor.id:\n",
    "        g.add_edge(prev_survivor.season, curr_survivor.season)\n",
    "    prev_survivor = curr_survivor"
   ]
  },
  {
   "cell_type": "code",
   "execution_count": null,
   "metadata": {
    "id": "PBvjaZ0Im5sD"
   },
   "outputs": [],
   "source": [
    "nx.nx_agraph.write_dot(g, \"survivor.dot\")"
   ]
  },
  {
   "cell_type": "code",
   "execution_count": null,
   "metadata": {
    "colab": {
     "base_uri": "https://localhost:8080/",
     "height": 1000
    },
    "id": "M38Xy_hpnECn",
    "outputId": "0fe01cdd-67f3-4333-d9cc-ee9ae82380f1"
   },
   "outputs": [],
   "source": [
    "with open(\"survivor.dot\") as f:\n",
    "    dot_txt = f.read()\n",
    "    print(dot_txt)\n",
    "    dot = graphviz.Source(dot_txt, format=\"png\")\n",
    "dot.view()"
   ]
  },
  {
   "cell_type": "code",
   "execution_count": null,
   "metadata": {
    "colab": {
     "base_uri": "https://localhost:8080/",
     "height": 489
    },
    "id": "wa2NPUDkwBvz",
    "outputId": "d3e67234-bac9-460e-e03d-53fe1ea18898"
   },
   "outputs": [],
   "source": [
    "edgelist = nx.to_pandas_edgelist(g)\n",
    "labels = nx.get_node_attributes(g, \"label\")\n",
    "edgelist[\"source\"] = edgelist[\"source\"].map(labels)\n",
    "edgelist[\"target\"] = edgelist[\"target\"].map(labels)\n",
    "edgelist = edgelist.rename(columns={\"source\": \"Returnees From\", \"target\": \"Season\"})\n",
    "out_table = edgelist.groupby(\"Season\").agg(list)\n",
    "out_table[\"Returnees From\"] = out_table[\"Returnees From\"].str.join(\", \")\n",
    "out_table = out_table.sort_values(\"Season\")\n",
    "out_table"
   ]
  },
  {
   "cell_type": "code",
   "execution_count": null,
   "metadata": {
    "colab": {
     "base_uri": "https://localhost:8080/"
    },
    "id": "nha3RlfQBxQJ",
    "outputId": "b92bc8a0-ecf3-4354-c936-60b3cccb40df"
   },
   "outputs": [],
   "source": [
    "print(out_table.to_markdown())"
   ]
  },
  {
   "cell_type": "code",
   "execution_count": null,
   "metadata": {
    "id": "HHth7O92Dl5s"
   },
   "outputs": [],
   "source": []
  }
 ],
 "metadata": {
  "colab": {
   "provenance": []
  },
  "kernelspec": {
   "display_name": "Python 3",
   "name": "python3"
  },
  "language_info": {
   "name": "python"
  }
 },
 "nbformat": 4,
 "nbformat_minor": 0
}
